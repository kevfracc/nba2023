{
 "cells": [
  {
   "cell_type": "code",
   "execution_count": null,
   "metadata": {},
   "outputs": [],
   "source": [
    "#https://github.com/swar/nba_api/blob/master/docs/examples/LiveData.ipynb"
   ]
  },
  {
   "cell_type": "code",
   "execution_count": 1,
   "metadata": {},
   "outputs": [
    {
     "name": "stdout",
     "output_type": "stream",
     "text": [
      "Defaulting to user installation because normal site-packages is not writeable\n",
      "Requirement already satisfied: nba_api in /Users/kevfracc/Library/Python/3.9/lib/python/site-packages (1.3.1)\n",
      "Requirement already satisfied: certifi<2024.0.0,>=2022.12.7 in /Users/kevfracc/Library/Python/3.9/lib/python/site-packages (from nba_api) (2023.7.22)\n",
      "Requirement already satisfied: numpy<2.0.0,>=1.22.2 in /Users/kevfracc/Library/Python/3.9/lib/python/site-packages (from nba_api) (1.26.0)\n",
      "Requirement already satisfied: requests<3.0,>=2.31 in /Users/kevfracc/Library/Python/3.9/lib/python/site-packages (from nba_api) (2.31.0)\n",
      "Requirement already satisfied: charset-normalizer<4,>=2 in /Users/kevfracc/Library/Python/3.9/lib/python/site-packages (from requests<3.0,>=2.31->nba_api) (3.3.0)\n",
      "Requirement already satisfied: idna<4,>=2.5 in /Users/kevfracc/Library/Python/3.9/lib/python/site-packages (from requests<3.0,>=2.31->nba_api) (3.4)\n",
      "Requirement already satisfied: urllib3<3,>=1.21.1 in /Users/kevfracc/Library/Python/3.9/lib/python/site-packages (from requests<3.0,>=2.31->nba_api) (2.0.6)\n",
      "Note: you may need to restart the kernel to use updated packages.\n"
     ]
    }
   ],
   "source": [
    "pip install nba_api"
   ]
  },
  {
   "cell_type": "code",
   "execution_count": 2,
   "metadata": {},
   "outputs": [
    {
     "name": "stdout",
     "output_type": "stream",
     "text": [
      "Defaulting to user installation because normal site-packages is not writeable\n",
      "Collecting pandas\n",
      "  Obtaining dependency information for pandas from https://files.pythonhosted.org/packages/c5/2f/bf85305b044ddee0ade62c444c7ef551eb423899424b3898d60895d02f63/pandas-2.1.1-cp39-cp39-macosx_11_0_arm64.whl.metadata\n",
      "  Downloading pandas-2.1.1-cp39-cp39-macosx_11_0_arm64.whl.metadata (18 kB)\n",
      "Requirement already satisfied: numpy>=1.22.4 in /Users/kevfracc/Library/Python/3.9/lib/python/site-packages (from pandas) (1.26.0)\n",
      "Requirement already satisfied: python-dateutil>=2.8.2 in /Users/kevfracc/Library/Python/3.9/lib/python/site-packages (from pandas) (2.8.2)\n",
      "Collecting pytz>=2020.1 (from pandas)\n",
      "  Obtaining dependency information for pytz>=2020.1 from https://files.pythonhosted.org/packages/32/4d/aaf7eff5deb402fd9a24a1449a8119f00d74ae9c2efa79f8ef9994261fc2/pytz-2023.3.post1-py2.py3-none-any.whl.metadata\n",
      "  Downloading pytz-2023.3.post1-py2.py3-none-any.whl.metadata (22 kB)\n",
      "Collecting tzdata>=2022.1 (from pandas)\n",
      "  Downloading tzdata-2023.3-py2.py3-none-any.whl (341 kB)\n",
      "\u001b[2K     \u001b[90m━━━━━━━━━━━━━━━━━━━━━━━━━━━━━━━━━━━━━━\u001b[0m \u001b[32m341.8/341.8 kB\u001b[0m \u001b[31m12.2 MB/s\u001b[0m eta \u001b[36m0:00:00\u001b[0m\n",
      "\u001b[?25hRequirement already satisfied: six>=1.5 in /Applications/Xcode.app/Contents/Developer/Library/Frameworks/Python3.framework/Versions/3.9/lib/python3.9/site-packages (from python-dateutil>=2.8.2->pandas) (1.15.0)\n",
      "Downloading pandas-2.1.1-cp39-cp39-macosx_11_0_arm64.whl (10.9 MB)\n",
      "\u001b[2K   \u001b[90m━━━━━━━━━━━━━━━━━━━━━━━━━━━━━━━━━━━━━━━━\u001b[0m \u001b[32m10.9/10.9 MB\u001b[0m \u001b[31m62.3 MB/s\u001b[0m eta \u001b[36m0:00:00\u001b[0ma \u001b[36m0:00:01\u001b[0m\n",
      "\u001b[?25hDownloading pytz-2023.3.post1-py2.py3-none-any.whl (502 kB)\n",
      "\u001b[2K   \u001b[90m━━━━━━━━━━━━━━━━━━━━━━━━━━━━━━━━━━━━━━━━\u001b[0m \u001b[32m502.5/502.5 kB\u001b[0m \u001b[31m41.9 MB/s\u001b[0m eta \u001b[36m0:00:00\u001b[0m\n",
      "\u001b[?25hInstalling collected packages: pytz, tzdata, pandas\n",
      "Successfully installed pandas-2.1.1 pytz-2023.3.post1 tzdata-2023.3\n",
      "Note: you may need to restart the kernel to use updated packages.\n"
     ]
    }
   ],
   "source": [
    "pip install pandas"
   ]
  },
  {
   "cell_type": "code",
   "execution_count": 15,
   "metadata": {},
   "outputs": [
    {
     "data": {
      "text/html": [
       "<div>\n",
       "<style scoped>\n",
       "    .dataframe tbody tr th:only-of-type {\n",
       "        vertical-align: middle;\n",
       "    }\n",
       "\n",
       "    .dataframe tbody tr th {\n",
       "        vertical-align: top;\n",
       "    }\n",
       "\n",
       "    .dataframe thead th {\n",
       "        text-align: right;\n",
       "    }\n",
       "</style>\n",
       "<table border=\"1\" class=\"dataframe\">\n",
       "  <thead>\n",
       "    <tr style=\"text-align: right;\">\n",
       "      <th></th>\n",
       "      <th>PERSON_ID</th>\n",
       "      <th>FIRST_NAME</th>\n",
       "      <th>LAST_NAME</th>\n",
       "      <th>DISPLAY_FIRST_LAST</th>\n",
       "      <th>DISPLAY_LAST_COMMA_FIRST</th>\n",
       "      <th>DISPLAY_FI_LAST</th>\n",
       "      <th>PLAYER_SLUG</th>\n",
       "      <th>BIRTHDATE</th>\n",
       "      <th>SCHOOL</th>\n",
       "      <th>COUNTRY</th>\n",
       "      <th>LAST_AFFILIATION</th>\n",
       "      <th>HEIGHT</th>\n",
       "      <th>WEIGHT</th>\n",
       "      <th>SEASON_EXP</th>\n",
       "      <th>JERSEY</th>\n",
       "      <th>POSITION</th>\n",
       "      <th>ROSTERSTATUS</th>\n",
       "      <th>GAMES_PLAYED_CURRENT_SEASON_FLAG</th>\n",
       "      <th>TEAM_ID</th>\n",
       "      <th>TEAM_NAME</th>\n",
       "      <th>TEAM_ABBREVIATION</th>\n",
       "      <th>TEAM_CODE</th>\n",
       "      <th>TEAM_CITY</th>\n",
       "      <th>PLAYERCODE</th>\n",
       "      <th>FROM_YEAR</th>\n",
       "      <th>TO_YEAR</th>\n",
       "      <th>DLEAGUE_FLAG</th>\n",
       "      <th>NBA_FLAG</th>\n",
       "      <th>GAMES_PLAYED_FLAG</th>\n",
       "      <th>DRAFT_YEAR</th>\n",
       "      <th>DRAFT_ROUND</th>\n",
       "      <th>DRAFT_NUMBER</th>\n",
       "      <th>GREATEST_75_FLAG</th>\n",
       "    </tr>\n",
       "  </thead>\n",
       "  <tbody>\n",
       "    <tr>\n",
       "      <th>0</th>\n",
       "      <td>2544</td>\n",
       "      <td>LeBron</td>\n",
       "      <td>James</td>\n",
       "      <td>LeBron James</td>\n",
       "      <td>James, LeBron</td>\n",
       "      <td>L. James</td>\n",
       "      <td>lebron-james</td>\n",
       "      <td>1984-12-30T00:00:00</td>\n",
       "      <td>St. Vincent-St. Mary HS (OH)</td>\n",
       "      <td>USA</td>\n",
       "      <td>St. Vincent-St. Mary HS (OH)/USA</td>\n",
       "      <td>6-9</td>\n",
       "      <td>250</td>\n",
       "      <td>20</td>\n",
       "      <td>23</td>\n",
       "      <td>Forward</td>\n",
       "      <td>Active</td>\n",
       "      <td>Y</td>\n",
       "      <td>1610612747</td>\n",
       "      <td>Lakers</td>\n",
       "      <td>LAL</td>\n",
       "      <td>lakers</td>\n",
       "      <td>Los Angeles</td>\n",
       "      <td>lebron_james</td>\n",
       "      <td>2003</td>\n",
       "      <td>2023</td>\n",
       "      <td>N</td>\n",
       "      <td>Y</td>\n",
       "      <td>Y</td>\n",
       "      <td>2003</td>\n",
       "      <td>1</td>\n",
       "      <td>1</td>\n",
       "      <td>Y</td>\n",
       "    </tr>\n",
       "  </tbody>\n",
       "</table>\n",
       "</div>"
      ],
      "text/plain": [
       "   PERSON_ID FIRST_NAME LAST_NAME DISPLAY_FIRST_LAST DISPLAY_LAST_COMMA_FIRST  \\\n",
       "0       2544     LeBron     James       LeBron James            James, LeBron   \n",
       "\n",
       "  DISPLAY_FI_LAST   PLAYER_SLUG            BIRTHDATE  \\\n",
       "0        L. James  lebron-james  1984-12-30T00:00:00   \n",
       "\n",
       "                         SCHOOL COUNTRY                  LAST_AFFILIATION  \\\n",
       "0  St. Vincent-St. Mary HS (OH)     USA  St. Vincent-St. Mary HS (OH)/USA   \n",
       "\n",
       "  HEIGHT WEIGHT  SEASON_EXP JERSEY POSITION ROSTERSTATUS  \\\n",
       "0    6-9    250          20     23  Forward       Active   \n",
       "\n",
       "  GAMES_PLAYED_CURRENT_SEASON_FLAG     TEAM_ID TEAM_NAME TEAM_ABBREVIATION  \\\n",
       "0                                Y  1610612747    Lakers               LAL   \n",
       "\n",
       "  TEAM_CODE    TEAM_CITY    PLAYERCODE  FROM_YEAR  TO_YEAR DLEAGUE_FLAG  \\\n",
       "0    lakers  Los Angeles  lebron_james       2003     2023            N   \n",
       "\n",
       "  NBA_FLAG GAMES_PLAYED_FLAG DRAFT_YEAR DRAFT_ROUND DRAFT_NUMBER  \\\n",
       "0        Y                 Y       2003           1            1   \n",
       "\n",
       "  GREATEST_75_FLAG  \n",
       "0                Y  "
      ]
     },
     "execution_count": 15,
     "metadata": {},
     "output_type": "execute_result"
    }
   ],
   "source": [
    "\n",
    "from nba_api.stats.endpoints import commonplayerinfo\n",
    "import pandas as pd\n",
    "pd.set_option('display.max_columns', None)\n",
    "\n",
    "# Basic Request\n",
    "player_info = commonplayerinfo.CommonPlayerInfo(player_id=2544)\n",
    "pd.DataFrame(player_info.get_data_frames()[0])\n"
   ]
  },
  {
   "cell_type": "code",
   "execution_count": 24,
   "metadata": {},
   "outputs": [
    {
     "name": "stdout",
     "output_type": "stream",
     "text": [
      "ScoreBoardDate: 2023-10-10\n",
      "0012300015: Cavaliers vs. Hawks @ 2023-10-10 19:30:00-04:00\n",
      "0012300019: Magic vs. Pelicans @ 2023-10-10 20:00:00-04:00\n",
      "0012300017: Pacers vs. Rockets @ 2023-10-10 20:00:00-04:00\n",
      "0012300014: Taipans vs. Wizards @ 2023-10-10 19:00:00-04:00\n",
      "0012300016: Hornets vs. Heat @ 2023-10-10 19:30:00-04:00\n",
      "0012300018: Bucks vs. Grizzlies @ 2023-10-10 20:00:00-04:00\n",
      "0012300013: Mavericks vs. Real Madrid @ 2023-10-10 14:45:00-04:00\n",
      "0012300020: Jazz vs. Clippers @ 2023-10-10 22:00:00-04:00\n",
      "0012300021: Nuggets vs. Suns @ 2023-10-10 22:00:00-04:00\n",
      "0012300022: Breakers vs. Trail Blazers @ 2023-10-10 22:00:00-04:00\n"
     ]
    }
   ],
   "source": [
    "# Query nba.live.endpoints.scoreboard and  list games in localTimeZone\n",
    "from datetime import datetime, timezone\n",
    "from dateutil import parser\n",
    "from nba_api.live.nba.endpoints import scoreboard\n",
    "\n",
    "f = \"{gameId}: {awayTeam} vs. {homeTeam} @ {gameTimeLTZ}\" \n",
    "\n",
    "board = scoreboard.ScoreBoard()\n",
    "print(\"ScoreBoardDate: \" + board.score_board_date)\n",
    "games = board.games.get_dict()\n",
    "for game in games:\n",
    "    gameTimeLTZ = parser.parse(game[\"gameTimeUTC\"]).replace(tzinfo=timezone.utc).astimezone(tz=None)\n",
    "    print(f.format(gameId=game['gameId'], awayTeam=game['awayTeam']['teamName'], homeTeam=game['homeTeam']['teamName'], gameTimeLTZ=gameTimeLTZ))"
   ]
  },
  {
   "cell_type": "code",
   "execution_count": 37,
   "metadata": {},
   "outputs": [
    {
     "data": {
      "text/plain": [
       "75"
      ]
     },
     "execution_count": 37,
     "metadata": {},
     "output_type": "execute_result"
    }
   ],
   "source": [
    "# Get BoxScore\n",
    "from nba_api.live.nba.endpoints import boxscore\n",
    "box = boxscore.BoxScore('0022000196') \n",
    "dict=box.home_team.get_dict()\n",
    "dict\n",
    "dict.get('score')"
   ]
  },
  {
   "cell_type": "code",
   "execution_count": 29,
   "metadata": {},
   "outputs": [
    {
     "name": "stdout",
     "output_type": "stream",
     "text": [
      "203493: Reggie Bullock: {'assists': 0, 'blocks': 0, 'blocksReceived': 0, 'fieldGoalsAttempted': 9, 'fieldGoalsMade': 4, 'fieldGoalsPercentage': 0.444444444444444, 'foulsOffensive': 0, 'foulsDrawn': 0, 'foulsPersonal': 2, 'foulsTechnical': 0, 'freeThrowsAttempted': 0, 'freeThrowsMade': 0, 'freeThrowsPercentage': 0.0, 'minus': 34.0, 'minutes': 'PT28M10.00S', 'minutesCalculated': 'PT28M', 'plus': 70.0, 'plusMinusPoints': 36.0, 'points': 11, 'pointsFastBreak': 3, 'pointsInThePaint': 2, 'pointsSecondChance': 0, 'reboundsDefensive': 6, 'reboundsOffensive': 1, 'reboundsTotal': 7, 'steals': 1, 'threePointersAttempted': 8, 'threePointersMade': 3, 'threePointersPercentage': 0.375, 'turnovers': 1, 'twoPointersAttempted': 1, 'twoPointersMade': 1, 'twoPointersPercentage': 1.0} PTS\n",
      "203944: Julius Randle: {'assists': 4, 'blocks': 0, 'blocksReceived': 0, 'fieldGoalsAttempted': 14, 'fieldGoalsMade': 7, 'fieldGoalsPercentage': 0.5, 'foulsOffensive': 1, 'foulsDrawn': 5, 'foulsPersonal': 2, 'foulsTechnical': 0, 'freeThrowsAttempted': 5, 'freeThrowsMade': 4, 'freeThrowsPercentage': 0.8, 'minus': 43.0, 'minutes': 'PT31M03.00S', 'minutesCalculated': 'PT31M', 'plus': 72.0, 'plusMinusPoints': 29.0, 'points': 20, 'pointsFastBreak': 0, 'pointsInThePaint': 8, 'pointsSecondChance': 7, 'reboundsDefensive': 12, 'reboundsOffensive': 0, 'reboundsTotal': 12, 'steals': 3, 'threePointersAttempted': 5, 'threePointersMade': 2, 'threePointersPercentage': 0.4, 'turnovers': 3, 'twoPointersAttempted': 9, 'twoPointersMade': 5, 'twoPointersPercentage': 0.555555555555556} PTS\n",
      "1629011: Mitchell Robinson: {'assists': 0, 'blocks': 2, 'blocksReceived': 0, 'fieldGoalsAttempted': 5, 'fieldGoalsMade': 4, 'fieldGoalsPercentage': 0.8, 'foulsOffensive': 0, 'foulsDrawn': 1, 'foulsPersonal': 4, 'foulsTechnical': 0, 'freeThrowsAttempted': 0, 'freeThrowsMade': 0, 'freeThrowsPercentage': 0.0, 'minus': 30.0, 'minutes': 'PT24M12.97S', 'minutesCalculated': 'PT24M', 'plus': 58.0, 'plusMinusPoints': 28.0, 'points': 8, 'pointsFastBreak': 0, 'pointsInThePaint': 8, 'pointsSecondChance': 4, 'reboundsDefensive': 3, 'reboundsOffensive': 4, 'reboundsTotal': 7, 'steals': 0, 'threePointersAttempted': 0, 'threePointersMade': 0, 'threePointersPercentage': 0.0, 'turnovers': 1, 'twoPointersAttempted': 5, 'twoPointersMade': 4, 'twoPointersPercentage': 0.8} PTS\n",
      "1629628: RJ Barrett: {'assists': 3, 'blocks': 0, 'blocksReceived': 0, 'fieldGoalsAttempted': 11, 'fieldGoalsMade': 5, 'fieldGoalsPercentage': 0.45454545454545503, 'foulsOffensive': 1, 'foulsDrawn': 6, 'foulsPersonal': 3, 'foulsTechnical': 0, 'freeThrowsAttempted': 8, 'freeThrowsMade': 7, 'freeThrowsPercentage': 0.875, 'minus': 40.0, 'minutes': 'PT29M14.00S', 'minutesCalculated': 'PT29M', 'plus': 72.0, 'plusMinusPoints': 32.0, 'points': 19, 'pointsFastBreak': 2, 'pointsInThePaint': 6, 'pointsSecondChance': 6, 'reboundsDefensive': 7, 'reboundsOffensive': 4, 'reboundsTotal': 11, 'steals': 2, 'threePointersAttempted': 4, 'threePointersMade': 2, 'threePointersPercentage': 0.5, 'turnovers': 4, 'twoPointersAttempted': 7, 'twoPointersMade': 3, 'twoPointersPercentage': 0.428571428571429} PTS\n",
      "203901: Elfrid Payton: {'assists': 3, 'blocks': 1, 'blocksReceived': 1, 'fieldGoalsAttempted': 9, 'fieldGoalsMade': 3, 'fieldGoalsPercentage': 0.333333333333333, 'foulsOffensive': 0, 'foulsDrawn': 2, 'foulsPersonal': 2, 'foulsTechnical': 0, 'freeThrowsAttempted': 3, 'freeThrowsMade': 3, 'freeThrowsPercentage': 1.0, 'minus': 34.0, 'minutes': 'PT23M10.00S', 'minutesCalculated': 'PT23M', 'plus': 49.0, 'plusMinusPoints': 15.0, 'points': 9, 'pointsFastBreak': 0, 'pointsInThePaint': 4, 'pointsSecondChance': 0, 'reboundsDefensive': 3, 'reboundsOffensive': 1, 'reboundsTotal': 4, 'steals': 1, 'threePointersAttempted': 1, 'threePointersMade': 0, 'threePointersPercentage': 0.0, 'turnovers': 2, 'twoPointersAttempted': 8, 'twoPointersMade': 3, 'twoPointersPercentage': 0.375} PTS\n",
      "203457: Nerlens Noel: {'assists': 0, 'blocks': 2, 'blocksReceived': 0, 'fieldGoalsAttempted': 3, 'fieldGoalsMade': 2, 'fieldGoalsPercentage': 0.666666666666666, 'foulsOffensive': 0, 'foulsDrawn': 3, 'foulsPersonal': 4, 'foulsTechnical': 0, 'freeThrowsAttempted': 2, 'freeThrowsMade': 1, 'freeThrowsPercentage': 0.5, 'minus': 45.0, 'minutes': 'PT23M47.03S', 'minutesCalculated': 'PT24M', 'plus': 47.0, 'plusMinusPoints': 2.0, 'points': 5, 'pointsFastBreak': 2, 'pointsInThePaint': 4, 'pointsSecondChance': 0, 'reboundsDefensive': 4, 'reboundsOffensive': 0, 'reboundsTotal': 4, 'steals': 2, 'threePointersAttempted': 0, 'threePointersMade': 0, 'threePointersPercentage': 0.0, 'turnovers': 0, 'twoPointersAttempted': 3, 'twoPointersMade': 2, 'twoPointersPercentage': 0.666666666666666} PTS\n",
      "203085: Austin Rivers: {'assists': 2, 'blocks': 0, 'blocksReceived': 0, 'fieldGoalsAttempted': 3, 'fieldGoalsMade': 0, 'fieldGoalsPercentage': 0.0, 'foulsOffensive': 1, 'foulsDrawn': 1, 'foulsPersonal': 2, 'foulsTechnical': 0, 'freeThrowsAttempted': 0, 'freeThrowsMade': 0, 'freeThrowsPercentage': 0.0, 'minus': 32.0, 'minutes': 'PT16M19.00S', 'minutesCalculated': 'PT16M', 'plus': 32.0, 'plusMinusPoints': 0.0, 'points': 0, 'pointsFastBreak': 0, 'pointsInThePaint': 0, 'pointsSecondChance': 0, 'reboundsDefensive': 1, 'reboundsOffensive': 0, 'reboundsTotal': 1, 'steals': 0, 'threePointersAttempted': 1, 'threePointersMade': 0, 'threePointersPercentage': 0.0, 'turnovers': 1, 'twoPointersAttempted': 2, 'twoPointersMade': 0, 'twoPointersPercentage': 0.0} PTS\n",
      "1630193: Immanuel Quickley: {'assists': 8, 'blocks': 1, 'blocksReceived': 1, 'fieldGoalsAttempted': 12, 'fieldGoalsMade': 7, 'fieldGoalsPercentage': 0.583333333333333, 'foulsOffensive': 0, 'foulsDrawn': 2, 'foulsPersonal': 4, 'foulsTechnical': 0, 'freeThrowsAttempted': 1, 'freeThrowsMade': 1, 'freeThrowsPercentage': 1.0, 'minus': 32.0, 'minutes': 'PT21M06.00S', 'minutesCalculated': 'PT21M', 'plus': 52.0, 'plusMinusPoints': 20.0, 'points': 17, 'pointsFastBreak': 0, 'pointsInThePaint': 10, 'pointsSecondChance': 0, 'reboundsDefensive': 0, 'reboundsOffensive': 0, 'reboundsTotal': 0, 'steals': 1, 'threePointersAttempted': 4, 'threePointersMade': 2, 'threePointersPercentage': 0.5, 'turnovers': 2, 'twoPointersAttempted': 8, 'twoPointersMade': 5, 'twoPointersPercentage': 0.625} PTS\n",
      "1630167: Obi Toppin: {'assists': 0, 'blocks': 1, 'blocksReceived': 0, 'fieldGoalsAttempted': 8, 'fieldGoalsMade': 5, 'fieldGoalsPercentage': 0.625, 'foulsOffensive': 0, 'foulsDrawn': 0, 'foulsPersonal': 0, 'foulsTechnical': 0, 'freeThrowsAttempted': 0, 'freeThrowsMade': 0, 'freeThrowsPercentage': 0.0, 'minus': 32.0, 'minutes': 'PT16M57.00S', 'minutesCalculated': 'PT17M', 'plus': 33.0, 'plusMinusPoints': 1.0, 'points': 12, 'pointsFastBreak': 0, 'pointsInThePaint': 6, 'pointsSecondChance': 0, 'reboundsDefensive': 5, 'reboundsOffensive': 0, 'reboundsTotal': 5, 'steals': 1, 'threePointersAttempted': 4, 'threePointersMade': 2, 'threePointersPercentage': 0.5, 'turnovers': 1, 'twoPointersAttempted': 4, 'twoPointersMade': 3, 'twoPointersPercentage': 0.75} PTS\n",
      "1628995: Kevin Knox II: {'assists': 1, 'blocks': 0, 'blocksReceived': 0, 'fieldGoalsAttempted': 3, 'fieldGoalsMade': 1, 'fieldGoalsPercentage': 0.333333333333333, 'foulsOffensive': 0, 'foulsDrawn': 1, 'foulsPersonal': 3, 'foulsTechnical': 0, 'freeThrowsAttempted': 0, 'freeThrowsMade': 0, 'freeThrowsPercentage': 0.0, 'minus': 27.0, 'minutes': 'PT15M29.00S', 'minutesCalculated': 'PT16M', 'plus': 30.0, 'plusMinusPoints': 3.0, 'points': 3, 'pointsFastBreak': 0, 'pointsInThePaint': 0, 'pointsSecondChance': 0, 'reboundsDefensive': 2, 'reboundsOffensive': 0, 'reboundsTotal': 2, 'steals': 0, 'threePointersAttempted': 2, 'threePointersMade': 1, 'threePointersPercentage': 0.5, 'turnovers': 0, 'twoPointersAttempted': 1, 'twoPointersMade': 0, 'twoPointersPercentage': 0.0} PTS\n",
      "1628372: Dennis Smith Jr.: {'assists': 0, 'blocks': 0, 'blocksReceived': 0, 'fieldGoalsAttempted': 2, 'fieldGoalsMade': 0, 'fieldGoalsPercentage': 0.0, 'foulsOffensive': 0, 'foulsDrawn': 1, 'foulsPersonal': 0, 'foulsTechnical': 0, 'freeThrowsAttempted': 2, 'freeThrowsMade': 1, 'freeThrowsPercentage': 0.5, 'minus': 9.0, 'minutes': 'PT03M44.00S', 'minutesCalculated': 'PT04M', 'plus': 4.0, 'plusMinusPoints': -5.0, 'points': 1, 'pointsFastBreak': 0, 'pointsInThePaint': 0, 'pointsSecondChance': 0, 'reboundsDefensive': 0, 'reboundsOffensive': 0, 'reboundsTotal': 0, 'steals': 0, 'threePointersAttempted': 1, 'threePointersMade': 0, 'threePointersPercentage': 0.0, 'turnovers': 0, 'twoPointersAttempted': 1, 'twoPointersMade': 0, 'twoPointersPercentage': 0.0} PTS\n",
      "1629033: Theo Pinson: {'assists': 0, 'blocks': 0, 'blocksReceived': 0, 'fieldGoalsAttempted': 1, 'fieldGoalsMade': 0, 'fieldGoalsPercentage': 0.0, 'foulsOffensive': 0, 'foulsDrawn': 0, 'foulsPersonal': 2, 'foulsTechnical': 0, 'freeThrowsAttempted': 0, 'freeThrowsMade': 0, 'freeThrowsPercentage': 0.0, 'minus': 9.0, 'minutes': 'PT03M31.00S', 'minutesCalculated': 'PT04M', 'plus': 3.0, 'plusMinusPoints': -6.0, 'points': 0, 'pointsFastBreak': 0, 'pointsInThePaint': 0, 'pointsSecondChance': 0, 'reboundsDefensive': 0, 'reboundsOffensive': 0, 'reboundsTotal': 0, 'steals': 0, 'threePointersAttempted': 1, 'threePointersMade': 0, 'threePointersPercentage': 0.0, 'turnovers': 0, 'twoPointersAttempted': 0, 'twoPointersMade': 0, 'twoPointersPercentage': 0.0} PTS\n",
      "1629649: Ignas Brazdeikis: {'assists': 1, 'blocks': 0, 'blocksReceived': 0, 'fieldGoalsAttempted': 0, 'fieldGoalsMade': 0, 'fieldGoalsPercentage': 0.0, 'foulsOffensive': 0, 'foulsDrawn': 0, 'foulsPersonal': 0, 'foulsTechnical': 0, 'freeThrowsAttempted': 0, 'freeThrowsMade': 0, 'freeThrowsPercentage': 0.0, 'minus': 8.0, 'minutes': 'PT03M17.00S', 'minutesCalculated': 'PT03M', 'plus': 3.0, 'plusMinusPoints': -5.0, 'points': 0, 'pointsFastBreak': 0, 'pointsInThePaint': 0, 'pointsSecondChance': 0, 'reboundsDefensive': 0, 'reboundsOffensive': 0, 'reboundsTotal': 0, 'steals': 0, 'threePointersAttempted': 0, 'threePointersMade': 0, 'threePointersPercentage': 0.0, 'turnovers': 1, 'twoPointersAttempted': 0, 'twoPointersMade': 0, 'twoPointersPercentage': 0.0} PTS\n",
      "201959: Taj Gibson: {'assists': 0, 'blocks': 0, 'blocksReceived': 0, 'fieldGoalsAttempted': 0, 'fieldGoalsMade': 0, 'fieldGoalsPercentage': 0.0, 'foulsOffensive': 0, 'foulsDrawn': 0, 'foulsPersonal': 0, 'foulsTechnical': 0, 'freeThrowsAttempted': 0, 'freeThrowsMade': 0, 'freeThrowsPercentage': 0.0, 'minus': 0.0, 'minutes': 'PT00M00.00S', 'minutesCalculated': 'PT00M', 'plus': 0.0, 'plusMinusPoints': 0.0, 'points': 0, 'pointsFastBreak': 0, 'pointsInThePaint': 0, 'pointsSecondChance': 0, 'reboundsDefensive': 0, 'reboundsOffensive': 0, 'reboundsTotal': 0, 'steals': 0, 'threePointersAttempted': 0, 'threePointersMade': 0, 'threePointersPercentage': 0.0, 'turnovers': 0, 'twoPointersAttempted': 0, 'twoPointersMade': 0, 'twoPointersPercentage': 0.0} PTS\n",
      "1629607: Jared Harper: {'assists': 0, 'blocks': 0, 'blocksReceived': 0, 'fieldGoalsAttempted': 0, 'fieldGoalsMade': 0, 'fieldGoalsPercentage': 0.0, 'foulsOffensive': 0, 'foulsDrawn': 0, 'foulsPersonal': 0, 'foulsTechnical': 0, 'freeThrowsAttempted': 0, 'freeThrowsMade': 0, 'freeThrowsPercentage': 0.0, 'minus': 0.0, 'minutes': 'PT00M00.00S', 'minutesCalculated': 'PT00M', 'plus': 0.0, 'plusMinusPoints': 0.0, 'points': 0, 'pointsFastBreak': 0, 'pointsInThePaint': 0, 'pointsSecondChance': 0, 'reboundsDefensive': 0, 'reboundsOffensive': 0, 'reboundsTotal': 0, 'steals': 0, 'threePointersAttempted': 0, 'threePointersMade': 0, 'threePointersPercentage': 0.0, 'turnovers': 0, 'twoPointersAttempted': 0, 'twoPointersMade': 0, 'twoPointersPercentage': 0.0} PTS\n",
      "202692: Alec Burks: {'assists': 0, 'blocks': 0, 'blocksReceived': 0, 'fieldGoalsAttempted': 0, 'fieldGoalsMade': 0, 'fieldGoalsPercentage': 0.0, 'foulsOffensive': 0, 'foulsDrawn': 0, 'foulsPersonal': 0, 'foulsTechnical': 0, 'freeThrowsAttempted': 0, 'freeThrowsMade': 0, 'freeThrowsPercentage': 0.0, 'minus': 0.0, 'minutes': 'PT00M00.00S', 'minutesCalculated': 'PT00M', 'plus': 0.0, 'plusMinusPoints': 0.0, 'points': 0, 'pointsFastBreak': 0, 'pointsInThePaint': 0, 'pointsSecondChance': 0, 'reboundsDefensive': 0, 'reboundsOffensive': 0, 'reboundsTotal': 0, 'steals': 0, 'threePointersAttempted': 0, 'threePointersMade': 0, 'threePointersPercentage': 0.0, 'turnovers': 0, 'twoPointersAttempted': 0, 'twoPointersMade': 0, 'twoPointersPercentage': 0.0} PTS\n",
      "1628373: Frank Ntilikina: {'assists': 0, 'blocks': 0, 'blocksReceived': 0, 'fieldGoalsAttempted': 0, 'fieldGoalsMade': 0, 'fieldGoalsPercentage': 0.0, 'foulsOffensive': 0, 'foulsDrawn': 0, 'foulsPersonal': 0, 'foulsTechnical': 0, 'freeThrowsAttempted': 0, 'freeThrowsMade': 0, 'freeThrowsPercentage': 0.0, 'minus': 0.0, 'minutes': 'PT00M00.00S', 'minutesCalculated': 'PT00M', 'plus': 0.0, 'plusMinusPoints': 0.0, 'points': 0, 'pointsFastBreak': 0, 'pointsInThePaint': 0, 'pointsSecondChance': 0, 'reboundsDefensive': 0, 'reboundsOffensive': 0, 'reboundsTotal': 0, 'steals': 0, 'threePointersAttempted': 0, 'threePointersMade': 0, 'threePointersPercentage': 0.0, 'turnovers': 0, 'twoPointersAttempted': 0, 'twoPointersMade': 0, 'twoPointersPercentage': 0.0} PTS\n"
     ]
    }
   ],
   "source": [
    "# Getting Box Scores. \n",
    "# Note: home_team & away_team have the identicial data structure.\n",
    "players = box.away_team.get_dict()['players']\n",
    "f = \"{player_id}: {name}: {points} PTS\"\n",
    "for player in players:\n",
    "   print(f.format(player_id=player['personId'],name=player['name'],points=player['statistics'])) #,points=player['statistics']['points']"
   ]
  }
 ],
 "metadata": {
  "kernelspec": {
   "display_name": "Python 3",
   "language": "python",
   "name": "python3"
  },
  "language_info": {
   "codemirror_mode": {
    "name": "ipython",
    "version": 3
   },
   "file_extension": ".py",
   "mimetype": "text/x-python",
   "name": "python",
   "nbconvert_exporter": "python",
   "pygments_lexer": "ipython3",
   "version": "3.9.6"
  },
  "orig_nbformat": 4
 },
 "nbformat": 4,
 "nbformat_minor": 2
}
